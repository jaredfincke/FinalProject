{
 "cells": [
  {
   "cell_type": "markdown",
   "metadata": {},
   "source": [
    "## Technical Notebook"
   ]
  },
  {
   "cell_type": "code",
   "execution_count": 86,
   "metadata": {},
   "outputs": [
    {
     "data": {
      "text/html": [
       "<div>\n",
       "<style scoped>\n",
       "    .dataframe tbody tr th:only-of-type {\n",
       "        vertical-align: middle;\n",
       "    }\n",
       "\n",
       "    .dataframe tbody tr th {\n",
       "        vertical-align: top;\n",
       "    }\n",
       "\n",
       "    .dataframe thead th {\n",
       "        text-align: right;\n",
       "    }\n",
       "</style>\n",
       "<table border=\"1\" class=\"dataframe\">\n",
       "  <thead>\n",
       "    <tr style=\"text-align: right;\">\n",
       "      <th></th>\n",
       "      <th>Card Title</th>\n",
       "      <th>URL</th>\n",
       "      <th>Price</th>\n",
       "      <th>Player</th>\n",
       "      <th>Grade</th>\n",
       "    </tr>\n",
       "  </thead>\n",
       "  <tbody>\n",
       "    <tr>\n",
       "      <th>0</th>\n",
       "      <td>2018 Topps Update At Bat Ronald Acuna Jr. ROOK...</td>\n",
       "      <td>https://www.ebay.com/itm/2018-Topps-Update-At-...</td>\n",
       "      <td>239.00</td>\n",
       "      <td>Acuna</td>\n",
       "      <td>10</td>\n",
       "    </tr>\n",
       "    <tr>\n",
       "      <th>1</th>\n",
       "      <td>New ListingRonald Acuna Jr. 2018 Topps Update ...</td>\n",
       "      <td>https://www.ebay.com/itm/Ronald-Acuna-Jr-2018-...</td>\n",
       "      <td>209.99</td>\n",
       "      <td>Acuna</td>\n",
       "      <td>10</td>\n",
       "    </tr>\n",
       "    <tr>\n",
       "      <th>2</th>\n",
       "      <td>New ListingRONALD ACUNA JR 2018 TOPPS UPDATE #...</td>\n",
       "      <td>https://www.ebay.com/itm/RONALD-ACUNA-JR-2018-...</td>\n",
       "      <td>210.00</td>\n",
       "      <td>Acuna</td>\n",
       "      <td>10</td>\n",
       "    </tr>\n",
       "    <tr>\n",
       "      <th>3</th>\n",
       "      <td>2018 Topps Update Ronald Acuna Jr. #US250 Rook...</td>\n",
       "      <td>https://www.ebay.com/itm/2018-Topps-Update-Ron...</td>\n",
       "      <td>215.00</td>\n",
       "      <td>Acuna</td>\n",
       "      <td>10</td>\n",
       "    </tr>\n",
       "    <tr>\n",
       "      <th>4</th>\n",
       "      <td>RONALD ACUNA JR 2018 TOPPS UPDATE #250 RC ROOK...</td>\n",
       "      <td>https://www.ebay.com/itm/RONALD-ACUNA-JR-2018-...</td>\n",
       "      <td>200.00</td>\n",
       "      <td>Acuna</td>\n",
       "      <td>10</td>\n",
       "    </tr>\n",
       "    <tr>\n",
       "      <th>...</th>\n",
       "      <td>...</td>\n",
       "      <td>...</td>\n",
       "      <td>...</td>\n",
       "      <td>...</td>\n",
       "      <td>...</td>\n",
       "    </tr>\n",
       "    <tr>\n",
       "      <th>2687</th>\n",
       "      <td>2015-16 Upper Deck Young Guns #201 Connor McDa...</td>\n",
       "      <td>https://www.ebay.com/itm/2015-16-Upper-Deck-Yo...</td>\n",
       "      <td>1151.00</td>\n",
       "      <td>McDavid</td>\n",
       "      <td>10</td>\n",
       "    </tr>\n",
       "    <tr>\n",
       "      <th>2688</th>\n",
       "      <td>2015-16 Upper Deck Young Guns Connor McDavid #...</td>\n",
       "      <td>https://www.ebay.com/itm/2015-16-Upper-Deck-Yo...</td>\n",
       "      <td>1469.55</td>\n",
       "      <td>McDavid</td>\n",
       "      <td>10</td>\n",
       "    </tr>\n",
       "    <tr>\n",
       "      <th>2689</th>\n",
       "      <td>2015 CONNOR McDAVID #201 Upper Deck Young Guns...</td>\n",
       "      <td>https://www.ebay.com/itm/2015-CONNOR-McDAVID-2...</td>\n",
       "      <td>1295.00</td>\n",
       "      <td>McDavid</td>\n",
       "      <td>10</td>\n",
       "    </tr>\n",
       "    <tr>\n",
       "      <th>2690</th>\n",
       "      <td>2015-16 Upper Deck Connor McDavid Young Guns Y...</td>\n",
       "      <td>https://www.ebay.com/itm/2015-16-Upper-Deck-Co...</td>\n",
       "      <td>1075.00</td>\n",
       "      <td>McDavid</td>\n",
       "      <td>10</td>\n",
       "    </tr>\n",
       "    <tr>\n",
       "      <th>2691</th>\n",
       "      <td>2015 Upper Deck Young Guns Connor McDavid ROOK...</td>\n",
       "      <td>https://www.ebay.com/itm/2015-Upper-Deck-Young...</td>\n",
       "      <td>1200.00</td>\n",
       "      <td>McDavid</td>\n",
       "      <td>10</td>\n",
       "    </tr>\n",
       "  </tbody>\n",
       "</table>\n",
       "<p>2692 rows × 5 columns</p>\n",
       "</div>"
      ],
      "text/plain": [
       "                                             Card Title  \\\n",
       "0     2018 Topps Update At Bat Ronald Acuna Jr. ROOK...   \n",
       "1     New ListingRonald Acuna Jr. 2018 Topps Update ...   \n",
       "2     New ListingRONALD ACUNA JR 2018 TOPPS UPDATE #...   \n",
       "3     2018 Topps Update Ronald Acuna Jr. #US250 Rook...   \n",
       "4     RONALD ACUNA JR 2018 TOPPS UPDATE #250 RC ROOK...   \n",
       "...                                                 ...   \n",
       "2687  2015-16 Upper Deck Young Guns #201 Connor McDa...   \n",
       "2688  2015-16 Upper Deck Young Guns Connor McDavid #...   \n",
       "2689  2015 CONNOR McDAVID #201 Upper Deck Young Guns...   \n",
       "2690  2015-16 Upper Deck Connor McDavid Young Guns Y...   \n",
       "2691  2015 Upper Deck Young Guns Connor McDavid ROOK...   \n",
       "\n",
       "                                                    URL    Price   Player  \\\n",
       "0     https://www.ebay.com/itm/2018-Topps-Update-At-...   239.00    Acuna   \n",
       "1     https://www.ebay.com/itm/Ronald-Acuna-Jr-2018-...   209.99    Acuna   \n",
       "2     https://www.ebay.com/itm/RONALD-ACUNA-JR-2018-...   210.00    Acuna   \n",
       "3     https://www.ebay.com/itm/2018-Topps-Update-Ron...   215.00    Acuna   \n",
       "4     https://www.ebay.com/itm/RONALD-ACUNA-JR-2018-...   200.00    Acuna   \n",
       "...                                                 ...      ...      ...   \n",
       "2687  https://www.ebay.com/itm/2015-16-Upper-Deck-Yo...  1151.00  McDavid   \n",
       "2688  https://www.ebay.com/itm/2015-16-Upper-Deck-Yo...  1469.55  McDavid   \n",
       "2689  https://www.ebay.com/itm/2015-CONNOR-McDAVID-2...  1295.00  McDavid   \n",
       "2690  https://www.ebay.com/itm/2015-16-Upper-Deck-Co...  1075.00  McDavid   \n",
       "2691  https://www.ebay.com/itm/2015-Upper-Deck-Young...  1200.00  McDavid   \n",
       "\n",
       "      Grade  \n",
       "0        10  \n",
       "1        10  \n",
       "2        10  \n",
       "3        10  \n",
       "4        10  \n",
       "...     ...  \n",
       "2687     10  \n",
       "2688     10  \n",
       "2689     10  \n",
       "2690     10  \n",
       "2691     10  \n",
       "\n",
       "[2692 rows x 5 columns]"
      ]
     },
     "execution_count": 86,
     "metadata": {},
     "output_type": "execute_result"
    }
   ],
   "source": [
    "import pandas as pd\n",
    "import numpy as np\n",
    "import matplotlib.pyplot as plt\n",
    "import seaborn as sb \n",
    "pd.read_csv(\"../Data/Filtered_Data.csv\")"
   ]
  },
  {
   "cell_type": "code",
   "execution_count": 87,
   "metadata": {},
   "outputs": [],
   "source": [
    "dfCards = pd.read_csv(\"../data/Filtered_Data.csv\", encoding= 'utf-8')"
   ]
  },
  {
   "cell_type": "markdown",
   "metadata": {},
   "source": [
    "## At an aggregate level, do grades 8-10 have a higher average price than ungraded (0) cards?"
   ]
  },
  {
   "cell_type": "code",
   "execution_count": 89,
   "metadata": {},
   "outputs": [],
   "source": [
    "dfCmeans = dfCards.groupby('Grade')['Price'].mean()"
   ]
  },
  {
   "cell_type": "code",
   "execution_count": 90,
   "metadata": {},
   "outputs": [
    {
     "name": "stdout",
     "output_type": "stream",
     "text": [
      "Grade\n",
      "0      422.128800\n",
      "8      306.039265\n",
      "9      643.786271\n",
      "10    1129.597281\n",
      "Name: Price, dtype: float64\n"
     ]
    }
   ],
   "source": [
    "print(dfCmeans)"
   ]
  },
  {
   "cell_type": "markdown",
   "metadata": {},
   "source": [
    "## Interestingly, a PSA grade 8 actually has a lower price than ungraded cards. So one would be better selling an ungraded card than selling a card graded as an \"8\"."
   ]
  },
  {
   "cell_type": "markdown",
   "metadata": {},
   "source": [
    "## Using a regression line, I want to predict the prce for cards that graded 8-10.  "
   ]
  },
  {
   "cell_type": "code",
   "execution_count": 92,
   "metadata": {},
   "outputs": [],
   "source": [
    "dfGraded = dfCards[dfCards['Grade'] != 0]"
   ]
  },
  {
   "cell_type": "code",
   "execution_count": 97,
   "metadata": {},
   "outputs": [
    {
     "data": {
      "text/plain": [
       "<matplotlib.axes._subplots.AxesSubplot at 0x7fb9f1788c10>"
      ]
     },
     "execution_count": 97,
     "metadata": {},
     "output_type": "execute_result"
    },
    {
     "data": {
      "image/png": "[encoded data removed]",
      "text/plain": [
       "<Figure size 432x288 with 1 Axes>"
      ]
     },
     "metadata": {
      "needs_background": "light"
     },
     "output_type": "display_data"
    }
   ],
   "source": [
    "sb.regplot(x = 'Grade', \n",
    "            y = \"Price\",  \n",
    "            ci = None, \n",
    "            data = dfGraded) "
   ]
  },
  {
   "cell_type": "markdown",
   "metadata": {},
   "source": [
    "## The regression line is positive indicating that a higher grade will result in a higher price."
   ]
  },
  {
   "cell_type": "markdown",
   "metadata": {},
   "source": [
    "## Is the relationship between price and grade the same for each player?"
   ]
  },
  {
   "cell_type": "code",
   "execution_count": 98,
   "metadata": {},
   "outputs": [
    {
     "data": {
      "image/png": "[encoded data removed]",
      "text/plain": [
       "<Figure size 453.75x360 with 1 Axes>"
      ]
     },
     "metadata": {
      "needs_background": "light"
     },
     "output_type": "display_data"
    }
   ],
   "source": [
    "sb.lmplot(x='Grade', y='Price', hue='Player', data=dfGraded);"
   ]
  },
  {
   "cell_type": "markdown",
   "metadata": {},
   "source": [
    "### The price of the card is most dependant on the grade for Stephan Curry cards. On the other hand, there is a very small slope between price and grade for Ronald Acuna Cards. "
   ]
  },
  {
   "cell_type": "code",
   "execution_count": null,
   "metadata": {},
   "outputs": [],
   "source": [
    "### What is the average price difference between Ungraded, 9 and 10 graded cards for each player?\n",
    "### I am excluding cards graded 8, as we know that ungraded cards have a higher price already."
   ]
  }
 ],
 "metadata": {
  "kernelspec": {
   "display_name": "Python 3",
   "language": "python",
   "name": "python3"
  },
  "language_info": {
   "codemirror_mode": {
    "name": "ipython",
    "version": 3
   },
   "file_extension": ".py",
   "mimetype": "text/x-python",
   "name": "python",
   "nbconvert_exporter": "python",
   "pygments_lexer": "ipython3",
   "version": "3.8.3"
  }
 },
 "nbformat": 4,
 "nbformat_minor": 4
}
