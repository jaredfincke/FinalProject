{
 "cells": [
  {
   "cell_type": "code",
   "execution_count": 3,
   "metadata": {},
   "outputs": [],
   "source": [
    "import os \n",
    "import glob\n",
    "import seaborn as sns\n",
    "import pandas as pd\n",
    "import statistics as st\n",
    "import matplotlib.pyplot as plt"
   ]
  },
  {
   "cell_type": "code",
   "execution_count": 65,
   "metadata": {},
   "outputs": [],
   "source": [
    "\n",
    "dfa = pd.read_csv(\"./Data/ACUNA PSA 10.csv\")\n",
    "dfa[\"Player\"] = \"Acuna\"\n",
    "dfa[\"Grade\"] = 10\n",
    "CAcuna_10 = dfa.to_csv(\"./Data/dfAcuna10.csv\", header=[ \"Card Title\", \"URL\", \"Price\",\"Player\",\"Grade\"], index=False)"
   ]
  },
  {
   "cell_type": "code",
   "execution_count": 66,
   "metadata": {},
   "outputs": [],
   "source": [
    "# Adding headers to each \"Acuna\" sheet\n",
    "dfa1 = pd.read_csv(\"./Data/ACUNA PSA 9.csv\")\n",
    "dfa1[\"Player\"] = \"Acuna\"\n",
    "dfa1[\"Grade\"] = 9\n",
    "dfAcuna9 = dfa1.to_csv(\"./Data/dfAcuna9.csv\", header=[ \"Card Title\", \"URL\", \"Price\",\"Player\",\"Grade\"], index=False)\n",
    "\n",
    "dfa2 = pd.read_csv(\"./Data/ACUNA PSA 8.csv\")\n",
    "dfa2[\"Player\"] = \"Acuna\"\n",
    "dfa2[\"Grade\"] = 8\n",
    "dfAcuna8 = dfa2.to_csv(\"./Data/dfAcuna8.csv\", header=[ \"Card Title\", \"URL\", \"Price\",\"Player\",\"Grade\"], index=False)\n",
    "\n",
    "dfau = pd.read_csv(\"./Data/ACUNA UNGRADED.csv\")\n",
    "dfau[\"Player\"] = \"Acuna\"\n",
    "dfau[\"Grade\"] = 0\n",
    "dfAcunaU = dfau.to_csv(\"./Data/dfAcunaU.csv\", header=[ \"Card Title\", \"URL\", \"Price\",\"Player\",\"Grade\"], index=False)"
   ]
  },
  {
   "cell_type": "code",
   "execution_count": 67,
   "metadata": {},
   "outputs": [],
   "source": [
    "# Adding headers to each \"Curry\" sheet\n",
    "dfc = pd.read_csv(\"./Data/CURRY PSA 10.csv\")\n",
    "dfc[\"Player\"] = \"Curry\"\n",
    "dfc[\"Grade\"] = 10\n",
    "dfCurry10 = dfc.to_csv(\"./Data/dfCURRY10.csv\", header=[ \"Card Title\", \"URL\", \"Price\",\"Player\",\"Grade\"], index=False)\n",
    "\n",
    "dfc1 = pd.read_csv(\"./Data/CURRY PSA 9.csv\")\n",
    "dfc1[\"Player\"] = \"Curry\"\n",
    "dfc1[\"Grade\"] = 9\n",
    "dfCurry9 = dfc1.to_csv(\"./Data/dfCurry9.csv\", header=[ \"Card Title\", \"URL\", \"Price\",\"Player\",\"Grade\"], index=False)\n",
    "\n",
    "\n",
    "dfc2 = pd.read_csv(\"./Data/CURRY PSA 8.csv\")\n",
    "dfc2[\"Player\"] = \"Curry\"\n",
    "dfc2[\"Grade\"] = 8\n",
    "dfCurry8 = dfc2.to_csv(\"./Data/dfCurry8.csv\", header=[ \"Card Title\", \"URL\", \"Price\",\"Player\",\"Grade\"], index=False)\n",
    "\n",
    "dfcu = pd.read_csv(\"./Data/CURRY UNGRADED.csv\")\n",
    "dfcu[\"Player\"] = \"Curry\"\n",
    "dfcu[\"Grade\"] = 0\n",
    "dfCurryU = dfcu.to_csv(\"./Data/dfCurryU.csv\", header=[ \"Card Title\", \"URL\", \"Price\",\"Player\",\"Grade\"], index=False)"
   ]
  },
  {
   "cell_type": "code",
   "execution_count": 68,
   "metadata": {},
   "outputs": [],
   "source": [
    "# Adding headers to each \"Mahommes\" sheet\n",
    "dfm = pd.read_csv(\"./Data/MAHOMMES PSA10.csv\")\n",
    "dfm[\"Player\"] = \"Mahommes\"\n",
    "dfm[\"Grade\"] = 10\n",
    "dfMahommes10 = dfm.to_csv(\"./Data/dfMahommes10.csv\", header=[ \"Card Title\", \"URL\", \"Price\",\"Player\",\"Grade\"], index=False)\n",
    "\n",
    "dfm1 = pd.read_csv(\"./Data/MAHOMMES PSA9.csv\")\n",
    "dfm1[\"Player\"] = \"Mahommes\"\n",
    "dfm1[\"Grade\"] = 9\n",
    "dfMahommes9 = dfm1.to_csv(\"./Data/dfMahommes9.csv\", header=[ \"Card Title\", \"URL\", \"Price\",\"Player\",\"Grade\"], index=False)\n",
    "\n",
    "dfm2 = pd.read_csv(\"./Data/MAHOMMES PSA8.csv\")\n",
    "dfm2[\"Player\"] = \"Mahommes\"\n",
    "dfm2[\"Grade\"] = 8\n",
    "dfMahommes8 = dfm2.to_csv(\"./Data/dfMahommes8.csv\", header=[ \"Card Title\", \"URL\", \"Price\",\"Player\",\"Grade\"], index=False)\n",
    "\n",
    "dfmu = pd.read_csv(\"./Data/MAHOMMES UNGRADED.csv\")\n",
    "dfmu[\"Player\"] = \"Mahommes\"\n",
    "dfmu[\"Grade\"] = 0\n",
    "dfMahommesU = dfmu.to_csv(\"./Data/dfMahommesU.csv\", header=[ \"Card Title\", \"URL\", \"Price\",\"Player\",\"Grade\"], index=False)"
   ]
  },
  {
   "cell_type": "code",
   "execution_count": 69,
   "metadata": {},
   "outputs": [],
   "source": [
    "#Adding headers to each \"McDavid\" sheet\n",
    "dfd = pd.read_csv(\"./Data/MCDAVID PSA 10.csv\")\n",
    "dfd[\"Player\"] = \"McDavid\"\n",
    "dfd[\"Grade\"] = 10\n",
    "dfMcDavid10 = dfd.to_csv(\"./Data/dfMcDavid10.csv\", header=[ \"Card Title\", \"URL\", \"Price\",\"Player\",\"Grade\"], index=False)\n",
    "\n",
    "dfd1 = pd.read_csv(\"./Data/MCDAVID PSA9.csv\")\n",
    "dfd1[\"Player\"] = \"McDavid\"\n",
    "dfd1[\"Grade\"] = 9\n",
    "dfMcDavid9 = dfd1.to_csv(\"./Data/dfMcDavid9.csv\", header=[ \"Card Title\", \"URL\", \"Price\",\"Player\",\"Grade\"], index=False)\n",
    "\n",
    "dfd2 = pd.read_csv(\"./Data/McDavid PSA 8.csv\")\n",
    "dfd2[\"Player\"] = \"McDavid\"\n",
    "dfd2[\"Grade\"] = 8\n",
    "dfMcDavid8 = dfd2.to_csv(\"./Data/dfMcDavid8.csv\", header=[ \"Card Title\", \"URL\", \"Price\",\"Player\",\"Grade\"], index=False)\n",
    "\n",
    "dfdu = pd.read_csv(\"./Data/MCDAVID NONGRADED.csv\")\n",
    "dfdu[\"Player\"] = \"McDavid\"\n",
    "dfdu[\"Grade\"] = 0\n",
    "dfMcDaviidU = dfdu.to_csv(\"./Data/dfMcDavidU.csv\", header=[ \"Card Title\", \"URL\", \"Price\",\"Player\",\"Grade\"], index=False)"
   ]
  },
  {
   "cell_type": "markdown",
   "metadata": {},
   "source": [
    "### I then moved all the older files with the old headers into a new subfolder titled \"Original_Raw_Data\""
   ]
  },
  {
   "cell_type": "code",
   "execution_count": 78,
   "metadata": {},
   "outputs": [],
   "source": [
    "os.chdir(\"./Data\")"
   ]
  },
  {
   "cell_type": "code",
   "execution_count": 79,
   "metadata": {},
   "outputs": [
    {
     "name": "stdout",
     "output_type": "stream",
     "text": [
      "['dfAcuna10.csv', 'dfAcuna9.csv', 'dfMcDavid9.csv', 'dfMcDavid8.csv', 'dfAcuna8.csv', 'dfMahommes8.csv', 'dfMahommes9.csv', 'dfCurry9.csv', 'dfCurry8.csv', 'dfCurryU.csv', 'dfMahommes10.csv', 'dfCURRY10.csv', 'dfMahommesU.csv', 'dfMcDavidU.csv', 'dfAcunaU.csv', 'dfMcDavid10.csv']\n"
     ]
    }
   ],
   "source": [
    "extension = 'csv'\n",
    "all_filenames = [i for i in glob.glob('*.{}'.format(extension))]\n",
    "print(all_filenames)"
   ]
  },
  {
   "cell_type": "code",
   "execution_count": 80,
   "metadata": {},
   "outputs": [],
   "source": [
    "#combine all files in the list\n",
    "combined_csv = pd.concat([pd.read_csv(f) for f in all_filenames ])\n",
    "#export to csv\n",
    "combined_csv.to_csv( \"combined_csv.csv\", index=False, encoding='utf-8-sig')"
   ]
  },
  {
   "cell_type": "code",
   "execution_count": 4,
   "metadata": {},
   "outputs": [
    {
     "data": {
      "text/html": [
       "<div>\n",
       "<style scoped>\n",
       "    .dataframe tbody tr th:only-of-type {\n",
       "        vertical-align: middle;\n",
       "    }\n",
       "\n",
       "    .dataframe tbody tr th {\n",
       "        vertical-align: top;\n",
       "    }\n",
       "\n",
       "    .dataframe thead th {\n",
       "        text-align: right;\n",
       "    }\n",
       "</style>\n",
       "<table border=\"1\" class=\"dataframe\">\n",
       "  <thead>\n",
       "    <tr style=\"text-align: right;\">\n",
       "      <th></th>\n",
       "      <th>Card Title</th>\n",
       "      <th>URL</th>\n",
       "      <th>Price</th>\n",
       "      <th>Player</th>\n",
       "      <th>Grade</th>\n",
       "    </tr>\n",
       "  </thead>\n",
       "  <tbody>\n",
       "    <tr>\n",
       "      <th>0</th>\n",
       "      <td>2018 Topps Update At Bat Ronald Acuna Jr. ROOK...</td>\n",
       "      <td>https://www.ebay.com/itm/2018-Topps-Update-At-...</td>\n",
       "      <td>$239.00</td>\n",
       "      <td>Acuna</td>\n",
       "      <td>10</td>\n",
       "    </tr>\n",
       "    <tr>\n",
       "      <th>1</th>\n",
       "      <td>New ListingRonald Acuna Jr. 2018 Topps Update ...</td>\n",
       "      <td>https://www.ebay.com/itm/Ronald-Acuna-Jr-2018-...</td>\n",
       "      <td>$209.99</td>\n",
       "      <td>Acuna</td>\n",
       "      <td>10</td>\n",
       "    </tr>\n",
       "    <tr>\n",
       "      <th>2</th>\n",
       "      <td>New ListingRONALD ACUNA JR 2018 TOPPS UPDATE #...</td>\n",
       "      <td>https://www.ebay.com/itm/RONALD-ACUNA-JR-2018-...</td>\n",
       "      <td>$210.00</td>\n",
       "      <td>Acuna</td>\n",
       "      <td>10</td>\n",
       "    </tr>\n",
       "    <tr>\n",
       "      <th>3</th>\n",
       "      <td>2018 Topps Update Ronald Acuna Jr. #US250 Rook...</td>\n",
       "      <td>https://www.ebay.com/itm/2018-Topps-Update-Ron...</td>\n",
       "      <td>$215.00</td>\n",
       "      <td>Acuna</td>\n",
       "      <td>10</td>\n",
       "    </tr>\n",
       "    <tr>\n",
       "      <th>4</th>\n",
       "      <td>RONALD ACUNA JR 2018 TOPPS UPDATE #250 RC ROOK...</td>\n",
       "      <td>https://www.ebay.com/itm/RONALD-ACUNA-JR-2018-...</td>\n",
       "      <td>$200.00</td>\n",
       "      <td>Acuna</td>\n",
       "      <td>10</td>\n",
       "    </tr>\n",
       "  </tbody>\n",
       "</table>\n",
       "</div>"
      ],
      "text/plain": [
       "                                          Card Title  \\\n",
       "0  2018 Topps Update At Bat Ronald Acuna Jr. ROOK...   \n",
       "1  New ListingRonald Acuna Jr. 2018 Topps Update ...   \n",
       "2  New ListingRONALD ACUNA JR 2018 TOPPS UPDATE #...   \n",
       "3  2018 Topps Update Ronald Acuna Jr. #US250 Rook...   \n",
       "4  RONALD ACUNA JR 2018 TOPPS UPDATE #250 RC ROOK...   \n",
       "\n",
       "                                                 URL    Price Player  Grade  \n",
       "0  https://www.ebay.com/itm/2018-Topps-Update-At-...  $239.00  Acuna     10  \n",
       "1  https://www.ebay.com/itm/Ronald-Acuna-Jr-2018-...  $209.99  Acuna     10  \n",
       "2  https://www.ebay.com/itm/RONALD-ACUNA-JR-2018-...  $210.00  Acuna     10  \n",
       "3  https://www.ebay.com/itm/2018-Topps-Update-Ron...  $215.00  Acuna     10  \n",
       "4  https://www.ebay.com/itm/RONALD-ACUNA-JR-2018-...  $200.00  Acuna     10  "
      ]
     },
     "execution_count": 4,
     "metadata": {},
     "output_type": "execute_result"
    }
   ],
   "source": [
    "dfCards = pd.read_csv(\"../data/combined_csv.csv\")\n",
    "dfCards.head(5)"
   ]
  },
  {
   "cell_type": "code",
   "execution_count": 5,
   "metadata": {},
   "outputs": [
    {
     "data": {
      "text/html": [
       "<div>\n",
       "<style scoped>\n",
       "    .dataframe tbody tr th:only-of-type {\n",
       "        vertical-align: middle;\n",
       "    }\n",
       "\n",
       "    .dataframe tbody tr th {\n",
       "        vertical-align: top;\n",
       "    }\n",
       "\n",
       "    .dataframe thead th {\n",
       "        text-align: right;\n",
       "    }\n",
       "</style>\n",
       "<table border=\"1\" class=\"dataframe\">\n",
       "  <thead>\n",
       "    <tr style=\"text-align: right;\">\n",
       "      <th></th>\n",
       "      <th>Card Title</th>\n",
       "      <th>URL</th>\n",
       "      <th>Price</th>\n",
       "      <th>Player</th>\n",
       "      <th>Grade</th>\n",
       "    </tr>\n",
       "  </thead>\n",
       "  <tbody>\n",
       "    <tr>\n",
       "      <th>668</th>\n",
       "      <td>2015-16 Upper Deck Young Guns #201 Connor McDa...</td>\n",
       "      <td>https://www.ebay.com/itm/2015-16-Upper-Deck-Yo...</td>\n",
       "      <td>$1,151.00</td>\n",
       "      <td>McDavid</td>\n",
       "      <td>10</td>\n",
       "    </tr>\n",
       "    <tr>\n",
       "      <th>669</th>\n",
       "      <td>2015-16 Upper Deck Young Guns Connor McDavid #...</td>\n",
       "      <td>https://www.ebay.com/itm/2015-16-Upper-Deck-Yo...</td>\n",
       "      <td>$1,469.55</td>\n",
       "      <td>McDavid</td>\n",
       "      <td>10</td>\n",
       "    </tr>\n",
       "    <tr>\n",
       "      <th>670</th>\n",
       "      <td>2015 CONNOR McDAVID #201 Upper Deck Young Guns...</td>\n",
       "      <td>https://www.ebay.com/itm/2015-CONNOR-McDAVID-2...</td>\n",
       "      <td>$1,295.00</td>\n",
       "      <td>McDavid</td>\n",
       "      <td>10</td>\n",
       "    </tr>\n",
       "    <tr>\n",
       "      <th>671</th>\n",
       "      <td>2015-16 Upper Deck Connor McDavid Young Guns Y...</td>\n",
       "      <td>https://www.ebay.com/itm/2015-16-Upper-Deck-Co...</td>\n",
       "      <td>$1,075.00</td>\n",
       "      <td>McDavid</td>\n",
       "      <td>10</td>\n",
       "    </tr>\n",
       "    <tr>\n",
       "      <th>672</th>\n",
       "      <td>2015 Upper Deck Young Guns Connor McDavid ROOK...</td>\n",
       "      <td>https://www.ebay.com/itm/2015-Upper-Deck-Young...</td>\n",
       "      <td>$1,200.00</td>\n",
       "      <td>McDavid</td>\n",
       "      <td>10</td>\n",
       "    </tr>\n",
       "  </tbody>\n",
       "</table>\n",
       "</div>"
      ],
      "text/plain": [
       "                                            Card Title  \\\n",
       "668  2015-16 Upper Deck Young Guns #201 Connor McDa...   \n",
       "669  2015-16 Upper Deck Young Guns Connor McDavid #...   \n",
       "670  2015 CONNOR McDAVID #201 Upper Deck Young Guns...   \n",
       "671  2015-16 Upper Deck Connor McDavid Young Guns Y...   \n",
       "672  2015 Upper Deck Young Guns Connor McDavid ROOK...   \n",
       "\n",
       "                                                   URL      Price   Player  \\\n",
       "668  https://www.ebay.com/itm/2015-16-Upper-Deck-Yo...  $1,151.00  McDavid   \n",
       "669  https://www.ebay.com/itm/2015-16-Upper-Deck-Yo...  $1,469.55  McDavid   \n",
       "670  https://www.ebay.com/itm/2015-CONNOR-McDAVID-2...  $1,295.00  McDavid   \n",
       "671  https://www.ebay.com/itm/2015-16-Upper-Deck-Co...  $1,075.00  McDavid   \n",
       "672  https://www.ebay.com/itm/2015-Upper-Deck-Young...  $1,200.00  McDavid   \n",
       "\n",
       "     Grade  \n",
       "668     10  \n",
       "669     10  \n",
       "670     10  \n",
       "671     10  \n",
       "672     10  "
      ]
     },
     "execution_count": 5,
     "metadata": {},
     "output_type": "execute_result"
    }
   ],
   "source": [
    "dfCards.tail(5)"
   ]
  },
  {
   "cell_type": "code",
   "execution_count": 6,
   "metadata": {},
   "outputs": [],
   "source": [
    "# I then moved all the seperate files into the "
   ]
  },
  {
   "cell_type": "code",
   "execution_count": 7,
   "metadata": {},
   "outputs": [],
   "source": [
    "# I then moved all the seperate files into the here to remove the outliers into a subfolder called \"Seperate_CSV_Files\"\n"
   ]
  },
  {
   "cell_type": "code",
   "execution_count": 8,
   "metadata": {},
   "outputs": [],
   "source": [
    "### Do exploratory analysis"
   ]
  },
  {
   "cell_type": "markdown",
   "metadata": {},
   "source": [
    "### I need to check if there are any missing values in both files."
   ]
  },
  {
   "cell_type": "code",
   "execution_count": 9,
   "metadata": {},
   "outputs": [
    {
     "name": "stdout",
     "output_type": "stream",
     "text": [
      "Empty DataFrame\n",
      "Columns: [Card Title, URL, Price, Player, Grade]\n",
      "Index: []\n"
     ]
    }
   ],
   "source": [
    "print(dfCards[dfCards.isna().any(axis=1)])"
   ]
  },
  {
   "cell_type": "markdown",
   "metadata": {},
   "source": [
    "### Exploratory Data Analysis"
   ]
  },
  {
   "cell_type": "code",
   "execution_count": 10,
   "metadata": {},
   "outputs": [
    {
     "data": {
      "text/plain": [
       "Card Title    object\n",
       "URL           object\n",
       "Price         object\n",
       "Player        object\n",
       "Grade          int64\n",
       "dtype: object"
      ]
     },
     "execution_count": 10,
     "metadata": {},
     "output_type": "execute_result"
    }
   ],
   "source": [
    "dfCards.dtypes"
   ]
  },
  {
   "cell_type": "code",
   "execution_count": 11,
   "metadata": {},
   "outputs": [],
   "source": [
    "### Price needs to be a numeric data type to perform regression analysis. "
   ]
  },
  {
   "cell_type": "code",
   "execution_count": 12,
   "metadata": {},
   "outputs": [],
   "source": [
    "dfPrice = dfCards.Price.replace('\\D', '', regex=True).astype(int)"
   ]
  },
  {
   "cell_type": "code",
   "execution_count": 13,
   "metadata": {},
   "outputs": [
    {
     "data": {
      "text/plain": [
       "668    115100\n",
       "669    146955\n",
       "670    129500\n",
       "671    107500\n",
       "672    120000\n",
       "Name: Price, dtype: int64"
      ]
     },
     "execution_count": 13,
     "metadata": {},
     "output_type": "execute_result"
    }
   ],
   "source": [
    "dfPrice.tail(5)"
   ]
  },
  {
   "cell_type": "code",
   "execution_count": 14,
   "metadata": {},
   "outputs": [],
   "source": [
    "### Adding the price and grade int columns to the original dataframe. "
   ]
  },
  {
   "cell_type": "code",
   "execution_count": 15,
   "metadata": {},
   "outputs": [],
   "source": [
    "dfCards['Price'] = dfPrice\n"
   ]
  },
  {
   "cell_type": "code",
   "execution_count": 16,
   "metadata": {},
   "outputs": [
    {
     "data": {
      "text/plain": [
       "Card Title    object\n",
       "URL           object\n",
       "Price          int64\n",
       "Player        object\n",
       "Grade          int64\n",
       "dtype: object"
      ]
     },
     "execution_count": 16,
     "metadata": {},
     "output_type": "execute_result"
    }
   ],
   "source": [
    "dfCards.dtypes"
   ]
  },
  {
   "cell_type": "code",
   "execution_count": 17,
   "metadata": {},
   "outputs": [
    {
     "data": {
      "text/plain": [
       "count       673.000000\n",
       "mean      70837.263001\n",
       "std       90543.100217\n",
       "min         199.000000\n",
       "25%       15800.000000\n",
       "50%       40995.000000\n",
       "75%       99999.000000\n",
       "max      739999.000000\n",
       "Name: Price, dtype: float64"
      ]
     },
     "execution_count": 17,
     "metadata": {},
     "output_type": "execute_result"
    }
   ],
   "source": [
    "\n",
    "dfCards['Price'].describe()"
   ]
  },
  {
   "cell_type": "code",
   "execution_count": 18,
   "metadata": {},
   "outputs": [],
   "source": [
    "### Need to divide the price column by 100 to get drop the cents off"
   ]
  },
  {
   "cell_type": "code",
   "execution_count": 19,
   "metadata": {},
   "outputs": [
    {
     "data": {
      "text/html": [
       "<div>\n",
       "<style scoped>\n",
       "    .dataframe tbody tr th:only-of-type {\n",
       "        vertical-align: middle;\n",
       "    }\n",
       "\n",
       "    .dataframe tbody tr th {\n",
       "        vertical-align: top;\n",
       "    }\n",
       "\n",
       "    .dataframe thead th {\n",
       "        text-align: right;\n",
       "    }\n",
       "</style>\n",
       "<table border=\"1\" class=\"dataframe\">\n",
       "  <thead>\n",
       "    <tr style=\"text-align: right;\">\n",
       "      <th></th>\n",
       "      <th>Card Title</th>\n",
       "      <th>URL</th>\n",
       "      <th>Price</th>\n",
       "      <th>Player</th>\n",
       "      <th>Grade</th>\n",
       "    </tr>\n",
       "  </thead>\n",
       "  <tbody>\n",
       "    <tr>\n",
       "      <th>0</th>\n",
       "      <td>2018 Topps Update At Bat Ronald Acuna Jr. ROOK...</td>\n",
       "      <td>https://www.ebay.com/itm/2018-Topps-Update-At-...</td>\n",
       "      <td>239.00</td>\n",
       "      <td>Acuna</td>\n",
       "      <td>10</td>\n",
       "    </tr>\n",
       "    <tr>\n",
       "      <th>1</th>\n",
       "      <td>New ListingRonald Acuna Jr. 2018 Topps Update ...</td>\n",
       "      <td>https://www.ebay.com/itm/Ronald-Acuna-Jr-2018-...</td>\n",
       "      <td>209.99</td>\n",
       "      <td>Acuna</td>\n",
       "      <td>10</td>\n",
       "    </tr>\n",
       "    <tr>\n",
       "      <th>2</th>\n",
       "      <td>New ListingRONALD ACUNA JR 2018 TOPPS UPDATE #...</td>\n",
       "      <td>https://www.ebay.com/itm/RONALD-ACUNA-JR-2018-...</td>\n",
       "      <td>210.00</td>\n",
       "      <td>Acuna</td>\n",
       "      <td>10</td>\n",
       "    </tr>\n",
       "    <tr>\n",
       "      <th>3</th>\n",
       "      <td>2018 Topps Update Ronald Acuna Jr. #US250 Rook...</td>\n",
       "      <td>https://www.ebay.com/itm/2018-Topps-Update-Ron...</td>\n",
       "      <td>215.00</td>\n",
       "      <td>Acuna</td>\n",
       "      <td>10</td>\n",
       "    </tr>\n",
       "    <tr>\n",
       "      <th>4</th>\n",
       "      <td>RONALD ACUNA JR 2018 TOPPS UPDATE #250 RC ROOK...</td>\n",
       "      <td>https://www.ebay.com/itm/RONALD-ACUNA-JR-2018-...</td>\n",
       "      <td>200.00</td>\n",
       "      <td>Acuna</td>\n",
       "      <td>10</td>\n",
       "    </tr>\n",
       "  </tbody>\n",
       "</table>\n",
       "</div>"
      ],
      "text/plain": [
       "                                          Card Title  \\\n",
       "0  2018 Topps Update At Bat Ronald Acuna Jr. ROOK...   \n",
       "1  New ListingRonald Acuna Jr. 2018 Topps Update ...   \n",
       "2  New ListingRONALD ACUNA JR 2018 TOPPS UPDATE #...   \n",
       "3  2018 Topps Update Ronald Acuna Jr. #US250 Rook...   \n",
       "4  RONALD ACUNA JR 2018 TOPPS UPDATE #250 RC ROOK...   \n",
       "\n",
       "                                                 URL   Price Player  Grade  \n",
       "0  https://www.ebay.com/itm/2018-Topps-Update-At-...  239.00  Acuna     10  \n",
       "1  https://www.ebay.com/itm/Ronald-Acuna-Jr-2018-...  209.99  Acuna     10  \n",
       "2  https://www.ebay.com/itm/RONALD-ACUNA-JR-2018-...  210.00  Acuna     10  \n",
       "3  https://www.ebay.com/itm/2018-Topps-Update-Ron...  215.00  Acuna     10  \n",
       "4  https://www.ebay.com/itm/RONALD-ACUNA-JR-2018-...  200.00  Acuna     10  "
      ]
     },
     "execution_count": 19,
     "metadata": {},
     "output_type": "execute_result"
    }
   ],
   "source": [
    "dfCards1 = dfCards\n",
    "dfCards1['Price'] = dfCards['Price'].div(100).round(2)\n",
    "dfCards1.head(5)"
   ]
  },
  {
   "cell_type": "code",
   "execution_count": 23,
   "metadata": {},
   "outputs": [],
   "source": [
    "### Looking for outliers"
   ]
  },
  {
   "cell_type": "code",
   "execution_count": 20,
   "metadata": {},
   "outputs": [
    {
     "data": {
      "image/png": "[encoded data removed]",
      "text/plain": [
       "<Figure size 432x288 with 1 Axes>"
      ]
     },
     "metadata": {
      "needs_background": "light"
     },
     "output_type": "display_data"
    }
   ],
   "source": [
    "sns.distplot(dfCards1['Price']);"
   ]
  },
  {
   "cell_type": "code",
   "execution_count": 25,
   "metadata": {},
   "outputs": [
    {
     "data": {
      "image/png": "[encoded data removed]",
      "text/plain": [
       "<Figure size 576x432 with 1 Axes>"
      ]
     },
     "metadata": {
      "needs_background": "light"
     },
     "output_type": "display_data"
    }
   ],
   "source": [
    "#box plot overallqual/saleprice\n",
    "var = 'Player'\n",
    "data = pd.concat([dfCards1['Price'], dfCards1[var]], axis=1)\n",
    "f, ax = plt.subplots(figsize=(8, 6))\n",
    "fig = sns.boxplot(x=var, y=\"Price\", data=data)\n",
    "fig.axis(ymin=0, ymax=7500);"
   ]
  },
  {
   "cell_type": "code",
   "execution_count": 45,
   "metadata": {},
   "outputs": [],
   "source": [
    "### From exploratory analysis I can tell that most cards sell under 2,000 There are outliers for each player that will need to be removed. Lastly, the higher the grade the higher the price, which makes sense. "
   ]
  },
  {
   "cell_type": "code",
   "execution_count": 26,
   "metadata": {},
   "outputs": [
    {
     "data": {
      "image/png": "[encoded data removed]",
      "text/plain": [
       "<Figure size 432x288 with 1 Axes>"
      ]
     },
     "metadata": {
      "needs_background": "light"
     },
     "output_type": "display_data"
    }
   ],
   "source": [
    "var = 'Grade'\n",
    "data = pd.concat([dfCards1['Price'], dfCards1[var]], axis=1)\n",
    "data.plot.scatter(x=var, y='Price', ylim=(0,7500));"
   ]
  },
  {
   "cell_type": "code",
   "execution_count": 27,
   "metadata": {},
   "outputs": [],
   "source": [
    "dfCardsAF = dfCards1[~((dfCards1['Price'] < 500 & (dfCards['Player'] == 'Acuna')))]"
   ]
  },
  {
   "cell_type": "code",
   "execution_count": 32,
   "metadata": {},
   "outputs": [
    {
     "data": {
      "text/html": [
       "<div>\n",
       "<style scoped>\n",
       "    .dataframe tbody tr th:only-of-type {\n",
       "        vertical-align: middle;\n",
       "    }\n",
       "\n",
       "    .dataframe tbody tr th {\n",
       "        vertical-align: top;\n",
       "    }\n",
       "\n",
       "    .dataframe thead th {\n",
       "        text-align: right;\n",
       "    }\n",
       "</style>\n",
       "<table border=\"1\" class=\"dataframe\">\n",
       "  <thead>\n",
       "    <tr style=\"text-align: right;\">\n",
       "      <th></th>\n",
       "      <th>Card Title</th>\n",
       "      <th>URL</th>\n",
       "      <th>Price</th>\n",
       "      <th>Player</th>\n",
       "      <th>Grade</th>\n",
       "    </tr>\n",
       "  </thead>\n",
       "  <tbody>\n",
       "    <tr>\n",
       "      <th>0</th>\n",
       "      <td>2018 Topps Update At Bat Ronald Acuna Jr. ROOK...</td>\n",
       "      <td>https://www.ebay.com/itm/2018-Topps-Update-At-...</td>\n",
       "      <td>239.00</td>\n",
       "      <td>Acuna</td>\n",
       "      <td>10</td>\n",
       "    </tr>\n",
       "    <tr>\n",
       "      <th>1</th>\n",
       "      <td>New ListingRonald Acuna Jr. 2018 Topps Update ...</td>\n",
       "      <td>https://www.ebay.com/itm/Ronald-Acuna-Jr-2018-...</td>\n",
       "      <td>209.99</td>\n",
       "      <td>Acuna</td>\n",
       "      <td>10</td>\n",
       "    </tr>\n",
       "    <tr>\n",
       "      <th>2</th>\n",
       "      <td>New ListingRONALD ACUNA JR 2018 TOPPS UPDATE #...</td>\n",
       "      <td>https://www.ebay.com/itm/RONALD-ACUNA-JR-2018-...</td>\n",
       "      <td>210.00</td>\n",
       "      <td>Acuna</td>\n",
       "      <td>10</td>\n",
       "    </tr>\n",
       "    <tr>\n",
       "      <th>3</th>\n",
       "      <td>2018 Topps Update Ronald Acuna Jr. #US250 Rook...</td>\n",
       "      <td>https://www.ebay.com/itm/2018-Topps-Update-Ron...</td>\n",
       "      <td>215.00</td>\n",
       "      <td>Acuna</td>\n",
       "      <td>10</td>\n",
       "    </tr>\n",
       "    <tr>\n",
       "      <th>4</th>\n",
       "      <td>RONALD ACUNA JR 2018 TOPPS UPDATE #250 RC ROOK...</td>\n",
       "      <td>https://www.ebay.com/itm/RONALD-ACUNA-JR-2018-...</td>\n",
       "      <td>200.00</td>\n",
       "      <td>Acuna</td>\n",
       "      <td>10</td>\n",
       "    </tr>\n",
       "  </tbody>\n",
       "</table>\n",
       "</div>"
      ],
      "text/plain": [
       "                                          Card Title  \\\n",
       "0  2018 Topps Update At Bat Ronald Acuna Jr. ROOK...   \n",
       "1  New ListingRonald Acuna Jr. 2018 Topps Update ...   \n",
       "2  New ListingRONALD ACUNA JR 2018 TOPPS UPDATE #...   \n",
       "3  2018 Topps Update Ronald Acuna Jr. #US250 Rook...   \n",
       "4  RONALD ACUNA JR 2018 TOPPS UPDATE #250 RC ROOK...   \n",
       "\n",
       "                                                 URL   Price Player  Grade  \n",
       "0  https://www.ebay.com/itm/2018-Topps-Update-At-...  239.00  Acuna     10  \n",
       "1  https://www.ebay.com/itm/Ronald-Acuna-Jr-2018-...  209.99  Acuna     10  \n",
       "2  https://www.ebay.com/itm/RONALD-ACUNA-JR-2018-...  210.00  Acuna     10  \n",
       "3  https://www.ebay.com/itm/2018-Topps-Update-Ron...  215.00  Acuna     10  \n",
       "4  https://www.ebay.com/itm/RONALD-ACUNA-JR-2018-...  200.00  Acuna     10  "
      ]
     },
     "execution_count": 32,
     "metadata": {},
     "output_type": "execute_result"
    }
   ],
   "source": [
    "dfCardsAF.head(5)"
   ]
  },
  {
   "cell_type": "code",
   "execution_count": 33,
   "metadata": {},
   "outputs": [],
   "source": [
    "dfCardsMF = dfCards1[~((dfCards1['Price'] < 4000 & (dfCards['Player'] == 'McDavid')))]"
   ]
  },
  {
   "cell_type": "code",
   "execution_count": 34,
   "metadata": {},
   "outputs": [],
   "source": [
    "dfCardsPMF = dfCards1[~((dfCards1['Price'] < 1000 & (dfCards['Player'] == 'Mahommes')))]"
   ]
  },
  {
   "cell_type": "code",
   "execution_count": 35,
   "metadata": {},
   "outputs": [],
   "source": [
    "dfCardsCF = dfCards1[~((dfCards1['Price'] < 2500 & (dfCards['Player'] == 'Curry')))]"
   ]
  },
  {
   "cell_type": "code",
   "execution_count": null,
   "metadata": {},
   "outputs": [],
   "source": [
    "### Adding all the filtered sets into one datafrane"
   ]
  },
  {
   "cell_type": "code",
   "execution_count": 37,
   "metadata": {},
   "outputs": [],
   "source": [
    "dfCardsALL = pd.concat([dfCardsAF, dfCardsMF, dfCardsPMF, dfCardsCF])"
   ]
  },
  {
   "cell_type": "code",
   "execution_count": null,
   "metadata": {},
   "outputs": [],
   "source": [
    "### Exporting dataframe to CSV as \"Filtered_Date\""
   ]
  },
  {
   "cell_type": "code",
   "execution_count": 38,
   "metadata": {},
   "outputs": [],
   "source": [
    "dfCardsALL.to_csv(r'../Data/Filtered_Data.csv', index = False)\n"
   ]
  }
 ],
 "metadata": {
  "kernelspec": {
   "display_name": "Python 3",
   "language": "python",
   "name": "python3"
  },
  "language_info": {
   "codemirror_mode": {
    "name": "ipython",
    "version": 3
   },
   "file_extension": ".py",
   "mimetype": "text/x-python",
   "name": "python",
   "nbconvert_exporter": "python",
   "pygments_lexer": "ipython3",
   "version": "3.8.3"
  }
 },
 "nbformat": 4,
 "nbformat_minor": 4
}
